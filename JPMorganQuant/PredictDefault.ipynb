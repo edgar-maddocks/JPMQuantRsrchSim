{
 "cells": [
  {
   "cell_type": "code",
   "execution_count": 41,
   "id": "cbc395ce-9be6-4b8d-b705-3df9e75f5316",
   "metadata": {},
   "outputs": [],
   "source": [
    "import pandas as pd\n",
    "import numpy as np\n",
    "import matplotlib.pyplot as plt\n",
    "from sklearn.ensemble import RandomForestClassifier\n",
    "from sklearn.model_selection import train_test_split"
   ]
  },
  {
   "cell_type": "code",
   "execution_count": 30,
   "id": "ff3acb13-5028-412f-b1b9-61e1e8dfb309",
   "metadata": {
    "tags": []
   },
   "outputs": [],
   "source": [
    "filepath = \"Task 3 and 4_Loan_Data (1).csv\""
   ]
  },
  {
   "cell_type": "code",
   "execution_count": 31,
   "id": "5360fe3f-4e0a-4b88-98fb-791e51eeb6d8",
   "metadata": {
    "tags": []
   },
   "outputs": [],
   "source": [
    "def GetDataTrainModel(filepath):\n",
    "    data = pd.read_csv(filepath)\n",
    "    X = data.drop([\"customer_id\", \"default\"], axis = 1)\n",
    "    y = data[\"default\"]\n",
    "    X_train, X_test , y_train, y_test = train_test_split(X, y, test_size = 0.2)\n",
    "    model = RandomForestClassifier(n_estimators=100)\n",
    "    model.fit(X_train, y_train)\n",
    "    return model"
   ]
  },
  {
   "cell_type": "code",
   "execution_count": 39,
   "id": "687fef99-e920-4335-8510-ed6257acc64c",
   "metadata": {
    "tags": []
   },
   "outputs": [],
   "source": [
    "def GetExpectedLoss(model, loan_amount, credit_lines_outstanding, loan_amt_outstanding, total_debt_outstanding, income, years_employed, fico_score):\n",
    "    arr = np.array([credit_lines_outstanding, loan_amt_outstanding, total_debt_outstanding, income, years_employed, fico_score])\n",
    "    arr = arr.reshape(1,-1)\n",
    "    default = model.predict(arr)\n",
    "    if (default == 0):\n",
    "        print(\"Customer likely not to default\")\n",
    "    elif (default == 1):\n",
    "        print(\"Customer likely to default\")\n",
    "        print(f\"Expected loss of: {loan_amount * 0.9}\")\n",
    "        \n",
    "    "
   ]
  },
  {
   "cell_type": "code",
   "execution_count": 42,
   "id": "6b3eca87-3ad3-40ca-9077-96535cbe553b",
   "metadata": {
    "tags": []
   },
   "outputs": [
    {
     "name": "stdout",
     "output_type": "stream",
     "text": [
      "Customer likely to default\n",
      "Expected loss of: 9000.0\n"
     ]
    },
    {
     "name": "stderr",
     "output_type": "stream",
     "text": [
      "C:\\Users\\edgar\\anaconda3\\Lib\\site-packages\\sklearn\\base.py:464: UserWarning: X does not have valid feature names, but RandomForestClassifier was fitted with feature names\n",
      "  warnings.warn(\n"
     ]
    }
   ],
   "source": [
    "model = GetDataTrainModel(filepath)\n",
    "GetExpectedLoss(model, 10000, 5, 1958.928726 ,8228.75252 ,26648.43525 ,2 ,572)"
   ]
  },
  {
   "cell_type": "code",
   "execution_count": null,
   "id": "824751a0-103a-462a-b52d-f31f5a7d53b6",
   "metadata": {},
   "outputs": [],
   "source": []
  }
 ],
 "metadata": {
  "kernelspec": {
   "display_name": "Python 3",
   "language": "python",
   "name": "python3"
  },
  "language_info": {
   "codemirror_mode": {
    "name": "ipython",
    "version": 3
   },
   "file_extension": ".py",
   "mimetype": "text/x-python",
   "name": "python",
   "nbconvert_exporter": "python",
   "pygments_lexer": "ipython3",
   "version": "3.11.5"
  }
 },
 "nbformat": 4,
 "nbformat_minor": 5
}
